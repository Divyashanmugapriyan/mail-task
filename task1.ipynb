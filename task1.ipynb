{
 "cells": [
  {
   "cell_type": "code",
   "execution_count": null,
   "id": "525c793d",
   "metadata": {},
   "outputs": [],
   "source": [
    "#task1\n",
    "#python3\n",
    "#get mail id,phone no,and names\n",
    "\n",
    "\n",
    "#step1==Registration\n",
    "print(\"welcome to new user\")\n",
    "\n",
    "FirstName = input(\"Enter the first name: \")\n",
    "LastName = input(\"Enter the last name: \")\n",
    "Phoneno = (input(\"Enter a Phone number: \"))\n",
    "MailID = input()\n",
    "password = input()\n",
    "\n",
    "if Phoneno.isdigit()==True and len(Phoneno)== 10 and MailID.endswith(\"@domainname.com\") and MailID[:-10].isalnum()==True:\n",
    "  print(\"Frist Name\")\n",
    "  print(\"Last Name\")\n",
    "  print(\"Phone no\")\n",
    "  print(\"Mail ID\")\n",
    "  print(\"valid password\")\n",
    "      \n",
    "else:\n",
    "  print(\"invalid Phone Number\")\n",
    "  print(\"Make sure Mail ID is correct\")\n",
    "  print(\"invalid password\")"
   ]
  }
 ],
 "metadata": {
  "kernelspec": {
   "display_name": "Python 3 (ipykernel)",
   "language": "python",
   "name": "python3"
  },
  "language_info": {
   "codemirror_mode": {
    "name": "ipython",
    "version": 3
   },
   "file_extension": ".py",
   "mimetype": "text/x-python",
   "name": "python",
   "nbconvert_exporter": "python",
   "pygments_lexer": "ipython3",
   "version": "3.9.7"
  }
 },
 "nbformat": 4,
 "nbformat_minor": 5
}
